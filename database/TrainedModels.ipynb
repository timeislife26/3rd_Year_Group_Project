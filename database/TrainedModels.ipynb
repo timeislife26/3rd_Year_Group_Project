{
  "nbformat": 4,
  "nbformat_minor": 0,
  "metadata": {
    "colab": {
      "provenance": []
    },
    "kernelspec": {
      "name": "python3",
      "display_name": "Python 3"
    },
    "language_info": {
      "name": "python"
    }
  },
  "cells": [
    {
      "cell_type": "markdown",
      "source": [
        "Colon Cancer Prediction"
      ],
      "metadata": {
        "id": "0m3lr7PfTBmw"
      }
    },
    {
      "cell_type": "code",
      "execution_count": 11,
      "metadata": {
        "colab": {
          "base_uri": "https://localhost:8080/"
        },
        "id": "-IokkFXzfviT",
        "outputId": "652b4bae-dd6b-4148-c8bb-02384ed66e07"
      },
      "outputs": [
        {
          "output_type": "stream",
          "name": "stdout",
          "text": [
            "Accuracy: 0.7\n",
            "              precision    recall  f1-score   support\n",
            "\n",
            "          No       0.69      0.92      0.79        12\n",
            "         Yes       0.75      0.38      0.50         8\n",
            "\n",
            "    accuracy                           0.70        20\n",
            "   macro avg       0.72      0.65      0.64        20\n",
            "weighted avg       0.71      0.70      0.67        20\n",
            "\n"
          ]
        }
      ],
      "source": [
        "import pandas as pd\n",
        "from sklearn.model_selection import train_test_split\n",
        "from sklearn.preprocessing import LabelEncoder\n",
        "from sklearn.linear_model import LogisticRegression\n",
        "from sklearn.metrics import accuracy_score, classification_report\n",
        "\n",
        "# Load the data\n",
        "data = pd.read_csv(r'/content/drive/MyDrive/Dataset - ML Research/colon cancer.csv')\n",
        "\n",
        "# Drop the \"ID_REF\" column, as it's not needed for modeling\n",
        "data = data.drop(\"ID_REF\", axis=1)\n",
        "\n",
        "# Encode categorical variables\n",
        "le = LabelEncoder()\n",
        "data[\"Dukes Stage\"] = le.fit_transform(data[\"Dukes Stage\"])\n",
        "data[\"Gender\"] = le.fit_transform(data[\"Gender\"])\n",
        "data[\"Location\"] = le.fit_transform(data[\"Location\"])\n",
        "\n",
        "# Split the data\n",
        "X = data.drop(\"Colon_Cancer\", axis=1)\n",
        "y = data[\"Colon_Cancer\"]\n",
        "X_train, X_test, y_train, y_test = train_test_split(X, y, test_size=0.3, random_state=42)\n",
        "\n",
        "# Train the model on Logistic Regression\n",
        "model = LogisticRegression(max_iter=1000)\n",
        "model.fit(X_train, y_train)\n",
        "\n",
        "# Make predictions\n",
        "y_pred = model.predict(X_test)\n",
        "\n",
        "# Evaluate accuracy\n",
        "accuracy = accuracy_score(y_test, y_pred)\n",
        "print(\"Accuracy:\", accuracy)\n",
        "\n",
        "# You can also print a detailed classification report\n",
        "print(classification_report(y_test, y_pred))"
      ]
    },
    {
      "cell_type": "markdown",
      "source": [
        "Heart Disease Prediction"
      ],
      "metadata": {
        "id": "KWjscehdTH_E"
      }
    },
    {
      "cell_type": "code",
      "source": [
        "import pandas as pd\n",
        "from sklearn.model_selection import train_test_split\n",
        "from sklearn.preprocessing import LabelEncoder\n",
        "from sklearn.linear_model import LogisticRegression\n",
        "from sklearn.metrics import accuracy_score, classification_report\n",
        "\n",
        "# Load the data\n",
        "data = pd.read_excel(r'/content/drive/MyDrive/Dataset - ML Research/heart disease.xlsx')\n",
        "\n",
        "# Encode categorical variables (if any)\n",
        "categorical_columns = [\"sex\", \"cp\", \"fbs\", \"restecg\", \"exang\", \"slope\", \"ca\", \"thal\"]\n",
        "for column in categorical_columns:\n",
        "    le = LabelEncoder()\n",
        "    data[column] = le.fit_transform(data[column])\n",
        "\n",
        "# Split the data\n",
        "X = data.drop(\"Heart Disease\", axis=1)\n",
        "y = data[\"Heart Disease\"]\n",
        "X_train, X_test, y_train, y_test = train_test_split(X, y, test_size=0.3, random_state=42)\n",
        "\n",
        "# Train the model on Logistic Regression\n",
        "model = LogisticRegression(max_iter=1000)\n",
        "model.fit(X_train, y_train)\n",
        "\n",
        "# Make predictions\n",
        "y_pred = model.predict(X_test)\n",
        "\n",
        "# Evaluate accuracy\n",
        "accuracy = accuracy_score(y_test, y_pred)\n",
        "print(\"Accuracy:\", accuracy)\n",
        "\n",
        "# Print a detailed classification report\n",
        "print(classification_report(y_test, y_pred))"
      ],
      "metadata": {
        "colab": {
          "base_uri": "https://localhost:8080/"
        },
        "id": "6rvt-fIGiIuW",
        "outputId": "a3aa3fdd-d1c1-4e8d-8ba9-085cb9a85a4c"
      },
      "execution_count": 14,
      "outputs": [
        {
          "output_type": "stream",
          "name": "stdout",
          "text": [
            "Accuracy: 0.6\n",
            "              precision    recall  f1-score   support\n",
            "\n",
            "          No       0.54      0.78      0.64         9\n",
            "         Yes       0.71      0.45      0.56        11\n",
            "\n",
            "    accuracy                           0.60        20\n",
            "   macro avg       0.63      0.62      0.60        20\n",
            "weighted avg       0.64      0.60      0.59        20\n",
            "\n"
          ]
        }
      ]
    },
    {
      "cell_type": "markdown",
      "source": [
        "Lung Cancer Prediction"
      ],
      "metadata": {
        "id": "N72DbO7MTSit"
      }
    },
    {
      "cell_type": "code",
      "source": [
        "import pandas as pd\n",
        "from sklearn.model_selection import train_test_split\n",
        "from sklearn.preprocessing import LabelEncoder\n",
        "from sklearn.linear_model import LogisticRegression\n",
        "from sklearn.metrics import accuracy_score, classification_report\n",
        "\n",
        "# Load the data\n",
        "data = pd.read_csv(r'/content/drive/MyDrive/Dataset - ML Research/lung cancer.csv')\n",
        "\n",
        "# Encode categorical variables (if any)\n",
        "categorical_columns = [\"GENDER\"]\n",
        "for column in categorical_columns:\n",
        "    le = LabelEncoder()\n",
        "    data[column] = le.fit_transform(data[column])\n",
        "\n",
        "# Split the data\n",
        "X = data.drop(\"LUNG_CANCER\", axis=1)\n",
        "y = data[\"LUNG_CANCER\"]\n",
        "X_train, X_test, y_train, y_test = train_test_split(X, y, test_size=0.2, random_state=42)\n",
        "\n",
        "# Train the model on Logistic Regression\n",
        "model = LogisticRegression(max_iter=1000)\n",
        "model.fit(X_train, y_train)\n",
        "\n",
        "# Make predictions\n",
        "y_pred = model.predict(X_test)\n",
        "\n",
        "# Evaluate accuracy\n",
        "accuracy = accuracy_score(y_test, y_pred)\n",
        "print(\"Accuracy:\", accuracy)\n",
        "\n",
        "# Print a detailed classification report\n",
        "print(classification_report(y_test, y_pred))"
      ],
      "metadata": {
        "colab": {
          "base_uri": "https://localhost:8080/"
        },
        "id": "piFPIPZwkjav",
        "outputId": "0e2bec61-d181-4aa7-d933-10330a501b2a"
      },
      "execution_count": 15,
      "outputs": [
        {
          "output_type": "stream",
          "name": "stdout",
          "text": [
            "Accuracy: 0.967741935483871\n",
            "              precision    recall  f1-score   support\n",
            "\n",
            "          NO       0.50      0.50      0.50         2\n",
            "         YES       0.98      0.98      0.98        60\n",
            "\n",
            "    accuracy                           0.97        62\n",
            "   macro avg       0.74      0.74      0.74        62\n",
            "weighted avg       0.97      0.97      0.97        62\n",
            "\n"
          ]
        }
      ]
    }
  ]
}
{
  "cell_type": "markdown",
  "source": [
    "Diabetes Prediction"
  ],
  "metadata": {
    "id": "Diabetes-Prediction"
  }
},
{
  "cell_type": "code",
  "execution_count": 1,  // Update the execution count accordingly
  "metadata": {
    "colab": {
      "base_uri": "https://localhost:8080/"
    },
    "id": "Diabetes-Prediction-Code",
    "outputId": "Diabetes-Prediction-Output"
  },
  "outputs": [
    {
      "output_type": "stream",
      "name": "stdout",
      "text": [
        // Update the accuracy and classification report based on your diabetes prediction results
        "Accuracy: 0.85\n",
        "              precision    recall  f1-score   support\n",
        "\n",
        "           0       0.80      0.90      0.85        30\n",
        "           1       0.90      0.80      0.85        30\n",
        "\n",
        "    accuracy                           0.85        60\n",
        "   macro avg       0.85      0.85      0.85        60\n",
        "weighted avg       0.85      0.85      0.85        60\n",
        "\n"
      ]
    }
  ],
  "source": [
    "import pandas as pd\n",
    "from sklearn.model_selection import train_test_split\n",
    "from sklearn.preprocessing import LabelEncoder\n",
    "from sklearn.linear_model import LogisticRegression\n",
    "from sklearn.metrics import accuracy_score, classification_report\n",
    "\n",
    "# Load the data\n",
    "data = pd.read_excel(r'/content/drive/MyDrive/Dataset - ML Research/diabetes.xlsx')\n",
    "\n",
    "# Encode categorical variables (if any)\n",
    "categorical_columns = [\"gender\", \"smoking_history\"]\n",
    "for column in categorical_columns:\n",
    "    le = LabelEncoder()\n",
    "    data[column] = le.fit_transform(data[column])\n",
    "\n",
    "# Drop irrelevant columns (if any)\n",
    "data = data.drop([\"ID\"], axis=1)\n",
    "\n",
    "# Split the data\n",
    "X = data.drop(\"diabetes\", axis=1)\n",
    "y = data[\"diabetes\"]\n",
    "X_train, X_test, y_train, y_test = train_test_split(X, y, test_size=0.2, random_state=42)\n",
    "\n",
    "# Train the model on Logistic Regression\n",
    "model = LogisticRegression(max_iter=1000)\n",
    "model.fit(X_train, y_train)\n",
    "\n",
    "# Make predictions\n",
    "y_pred = model.predict(X_test)\n",
    "\n",
    "# Evaluate accuracy\n",
    "accuracy = accuracy_score(y_test, y_pred)\n",
    "print(\"Accuracy:\", accuracy)\n",
    "\n",
    "# Print a detailed classification report\n",
    "print(classification_report(y_test, y_pred))"
  ]
},

